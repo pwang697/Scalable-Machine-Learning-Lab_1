{
 "cells": [
  {
   "cell_type": "code",
   "execution_count": 1,
   "id": "063d9a22",
   "metadata": {},
   "outputs": [],
   "source": [
    "import hopsworks\n",
    "import pandas as pd\n",
    "from sklearn.neighbors import KNeighborsClassifier\n",
    "from sklearn.metrics import accuracy_score\n",
    "from sklearn.metrics import confusion_matrix\n",
    "from sklearn.metrics import classification_report\n",
    "import seaborn as sns\n",
    "from matplotlib import pyplot\n",
    "from hsml.schema import Schema\n",
    "from hsml.model_schema import ModelSchema\n",
    "import joblib\n",
    "import os"
   ]
  },
  {
   "cell_type": "code",
   "execution_count": 2,
   "id": "5ce90341",
   "metadata": {},
   "outputs": [
    {
     "name": "stdout",
     "output_type": "stream",
     "text": [
      "Connected. Call `.close()` to terminate connection gracefully.\n",
      "\n",
      "Logged in to project, explore it here https://c.app.hopsworks.ai:443/p/196758\n",
      "Connected. Call `.close()` to terminate connection gracefully.\n"
     ]
    }
   ],
   "source": [
    "# You have to set the environment variable 'HOPSWORKS_API_KEY' for login to succeed\n",
    "project = hopsworks.login()\n",
    "fs = project.get_feature_store()"
   ]
  },
  {
   "cell_type": "code",
   "execution_count": 3,
   "id": "359ed7b3",
   "metadata": {},
   "outputs": [],
   "source": [
    "# The feature view is the input set of features for your model. The features can come from different feature groups.    \n",
    "# You can select features from different feature groups and join them together to create a feature view\n",
    "wine_fg = fs.get_feature_group(name=\"wine\", version=1)\n",
    "query = wine_fg.select_all()\n",
    "label_encoder = fs.get_transformation_function(name=\"label_encoder\")\n",
    "feature_view = fs.get_or_create_feature_view(\n",
    "    name=\"wine\",\n",
    "    version=1,\n",
    "    description=\"Read from wine quality dataset\",\n",
    "    labels=[\"quality\"],\n",
    "    query=query,\n",
    "    transformation_functions={\n",
    "        \"type\": label_encoder\n",
    "    }\n",
    ")"
   ]
  },
  {
   "cell_type": "markdown",
   "metadata": {},
   "source": [
    "Issue: It seems like labels are NOT separated and \"type\" is NOT encoded."
   ]
  },
  {
   "cell_type": "code",
   "execution_count": 4,
   "id": "42fbcfd3",
   "metadata": {},
   "outputs": [],
   "source": [
    "# # You can read training data, randomly split into train/test sets of features (X) and labels (y)        \n",
    "# X_train, X_test, y_train, y_test = feature_view.train_test_split(0.2)\n",
    "\n",
    "# # Train our model with the Scikit-learn K-nearest-neighbors algorithm using our features (X_train) and labels (y_train)\n",
    "# model = KNeighborsClassifier(n_neighbors=2)\n",
    "# model.fit(X_train, y_train)"
   ]
  },
  {
   "cell_type": "code",
   "execution_count": 5,
   "id": "78142fce",
   "metadata": {},
   "outputs": [
    {
     "name": "stdout",
     "output_type": "stream",
     "text": [
      "Finished: Reading data from Hopsworks, using ArrowFlight (1.33s) \n"
     ]
    },
    {
     "name": "stderr",
     "output_type": "stream",
     "text": [
      "VersionWarning: Incremented version to `38`.\n"
     ]
    }
   ],
   "source": [
    "train, test, _, _ = feature_view.train_test_split(0.2)"
   ]
  },
  {
   "cell_type": "code",
   "execution_count": 6,
   "id": "7c8f56c4",
   "metadata": {},
   "outputs": [],
   "source": [
    "#split one column as targets\n",
    "def feature_target_split(df, column_name):\n",
    "    features = df.drop(column_name, axis=1).reset_index(drop=True)\n",
    "    targets = df[column_name].reset_index(drop=True)\n",
    "    return features, targets\n",
    "\n",
    "# One-hot encode the categorical feature\n",
    "def one_hot_encoder(df, column_name):\n",
    "    from sklearn.preprocessing import OneHotEncoder\n",
    "    encoder = OneHotEncoder(drop='first',sparse=False)\n",
    "    encoded_features = encoder.fit_transform(df[[column_name]])\n",
    "    encoded_df = pd.DataFrame(encoded_features, columns=encoder.get_feature_names_out([column_name]))\n",
    "    encoded_df = pd.concat([df.drop(column_name, axis=1), encoded_df], axis=1)\n",
    "    return encoded_df"
   ]
  },
  {
   "cell_type": "code",
   "execution_count": 7,
   "metadata": {},
   "outputs": [
    {
     "data": {
      "text/html": [
       "<div>\n",
       "<style scoped>\n",
       "    .dataframe tbody tr th:only-of-type {\n",
       "        vertical-align: middle;\n",
       "    }\n",
       "\n",
       "    .dataframe tbody tr th {\n",
       "        vertical-align: top;\n",
       "    }\n",
       "\n",
       "    .dataframe thead th {\n",
       "        text-align: right;\n",
       "    }\n",
       "</style>\n",
       "<table border=\"1\" class=\"dataframe\">\n",
       "  <thead>\n",
       "    <tr style=\"text-align: right;\">\n",
       "      <th></th>\n",
       "      <th>type</th>\n",
       "      <th>fixed_acidity</th>\n",
       "      <th>volatile_acidity</th>\n",
       "      <th>citric_acid</th>\n",
       "      <th>residual_sugar</th>\n",
       "      <th>chlorides</th>\n",
       "      <th>free_sulfur_dioxide</th>\n",
       "      <th>density</th>\n",
       "      <th>ph</th>\n",
       "      <th>sulphates</th>\n",
       "      <th>alcohol</th>\n",
       "    </tr>\n",
       "  </thead>\n",
       "  <tbody>\n",
       "    <tr>\n",
       "      <th>0</th>\n",
       "      <td>red</td>\n",
       "      <td>11.8</td>\n",
       "      <td>0.330</td>\n",
       "      <td>0.490</td>\n",
       "      <td>3.40</td>\n",
       "      <td>0.0930</td>\n",
       "      <td>54.0</td>\n",
       "      <td>1.00020</td>\n",
       "      <td>3.30</td>\n",
       "      <td>0.76</td>\n",
       "      <td>10.70</td>\n",
       "    </tr>\n",
       "    <tr>\n",
       "      <th>1</th>\n",
       "      <td>white</td>\n",
       "      <td>7.5</td>\n",
       "      <td>0.420</td>\n",
       "      <td>0.190</td>\n",
       "      <td>6.90</td>\n",
       "      <td>0.0410</td>\n",
       "      <td>62.0</td>\n",
       "      <td>0.99508</td>\n",
       "      <td>3.23</td>\n",
       "      <td>0.37</td>\n",
       "      <td>10.00</td>\n",
       "    </tr>\n",
       "    <tr>\n",
       "      <th>2</th>\n",
       "      <td>white</td>\n",
       "      <td>7.5</td>\n",
       "      <td>0.240</td>\n",
       "      <td>0.620</td>\n",
       "      <td>10.60</td>\n",
       "      <td>0.0450</td>\n",
       "      <td>51.0</td>\n",
       "      <td>0.99779</td>\n",
       "      <td>3.16</td>\n",
       "      <td>0.44</td>\n",
       "      <td>8.80</td>\n",
       "    </tr>\n",
       "    <tr>\n",
       "      <th>3</th>\n",
       "      <td>red</td>\n",
       "      <td>8.6</td>\n",
       "      <td>0.685</td>\n",
       "      <td>0.100</td>\n",
       "      <td>1.60</td>\n",
       "      <td>0.0920</td>\n",
       "      <td>3.0</td>\n",
       "      <td>0.99745</td>\n",
       "      <td>3.31</td>\n",
       "      <td>0.65</td>\n",
       "      <td>9.55</td>\n",
       "    </tr>\n",
       "    <tr>\n",
       "      <th>4</th>\n",
       "      <td>white</td>\n",
       "      <td>6.6</td>\n",
       "      <td>0.500</td>\n",
       "      <td>0.260</td>\n",
       "      <td>11.30</td>\n",
       "      <td>0.0290</td>\n",
       "      <td>32.0</td>\n",
       "      <td>0.99302</td>\n",
       "      <td>3.27</td>\n",
       "      <td>0.78</td>\n",
       "      <td>12.90</td>\n",
       "    </tr>\n",
       "    <tr>\n",
       "      <th>...</th>\n",
       "      <td>...</td>\n",
       "      <td>...</td>\n",
       "      <td>...</td>\n",
       "      <td>...</td>\n",
       "      <td>...</td>\n",
       "      <td>...</td>\n",
       "      <td>...</td>\n",
       "      <td>...</td>\n",
       "      <td>...</td>\n",
       "      <td>...</td>\n",
       "      <td>...</td>\n",
       "    </tr>\n",
       "    <tr>\n",
       "      <th>4224</th>\n",
       "      <td>red</td>\n",
       "      <td>8.9</td>\n",
       "      <td>0.620</td>\n",
       "      <td>0.190</td>\n",
       "      <td>3.90</td>\n",
       "      <td>0.1700</td>\n",
       "      <td>51.0</td>\n",
       "      <td>0.99860</td>\n",
       "      <td>3.17</td>\n",
       "      <td>0.93</td>\n",
       "      <td>9.20</td>\n",
       "    </tr>\n",
       "    <tr>\n",
       "      <th>4225</th>\n",
       "      <td>white</td>\n",
       "      <td>6.5</td>\n",
       "      <td>0.115</td>\n",
       "      <td>0.290</td>\n",
       "      <td>1.95</td>\n",
       "      <td>0.0380</td>\n",
       "      <td>73.0</td>\n",
       "      <td>0.98900</td>\n",
       "      <td>3.12</td>\n",
       "      <td>0.25</td>\n",
       "      <td>12.90</td>\n",
       "    </tr>\n",
       "    <tr>\n",
       "      <th>4226</th>\n",
       "      <td>white</td>\n",
       "      <td>6.7</td>\n",
       "      <td>0.210</td>\n",
       "      <td>0.340</td>\n",
       "      <td>1.40</td>\n",
       "      <td>0.0490</td>\n",
       "      <td>36.0</td>\n",
       "      <td>0.99091</td>\n",
       "      <td>3.02</td>\n",
       "      <td>0.50</td>\n",
       "      <td>11.00</td>\n",
       "    </tr>\n",
       "    <tr>\n",
       "      <th>4227</th>\n",
       "      <td>white</td>\n",
       "      <td>5.4</td>\n",
       "      <td>0.375</td>\n",
       "      <td>0.400</td>\n",
       "      <td>3.30</td>\n",
       "      <td>0.0540</td>\n",
       "      <td>29.0</td>\n",
       "      <td>0.99482</td>\n",
       "      <td>3.42</td>\n",
       "      <td>0.52</td>\n",
       "      <td>9.10</td>\n",
       "    </tr>\n",
       "    <tr>\n",
       "      <th>4228</th>\n",
       "      <td>red</td>\n",
       "      <td>5.7</td>\n",
       "      <td>0.435</td>\n",
       "      <td>0.135</td>\n",
       "      <td>2.00</td>\n",
       "      <td>0.0585</td>\n",
       "      <td>13.5</td>\n",
       "      <td>0.99366</td>\n",
       "      <td>3.48</td>\n",
       "      <td>0.81</td>\n",
       "      <td>11.85</td>\n",
       "    </tr>\n",
       "  </tbody>\n",
       "</table>\n",
       "<p>4229 rows × 11 columns</p>\n",
       "</div>"
      ],
      "text/plain": [
       "       type  fixed_acidity  volatile_acidity  citric_acid  residual_sugar  \\\n",
       "0       red           11.8             0.330        0.490            3.40   \n",
       "1     white            7.5             0.420        0.190            6.90   \n",
       "2     white            7.5             0.240        0.620           10.60   \n",
       "3       red            8.6             0.685        0.100            1.60   \n",
       "4     white            6.6             0.500        0.260           11.30   \n",
       "...     ...            ...               ...          ...             ...   \n",
       "4224    red            8.9             0.620        0.190            3.90   \n",
       "4225  white            6.5             0.115        0.290            1.95   \n",
       "4226  white            6.7             0.210        0.340            1.40   \n",
       "4227  white            5.4             0.375        0.400            3.30   \n",
       "4228    red            5.7             0.435        0.135            2.00   \n",
       "\n",
       "      chlorides  free_sulfur_dioxide  density    ph  sulphates  alcohol  \n",
       "0        0.0930                 54.0  1.00020  3.30       0.76    10.70  \n",
       "1        0.0410                 62.0  0.99508  3.23       0.37    10.00  \n",
       "2        0.0450                 51.0  0.99779  3.16       0.44     8.80  \n",
       "3        0.0920                  3.0  0.99745  3.31       0.65     9.55  \n",
       "4        0.0290                 32.0  0.99302  3.27       0.78    12.90  \n",
       "...         ...                  ...      ...   ...        ...      ...  \n",
       "4224     0.1700                 51.0  0.99860  3.17       0.93     9.20  \n",
       "4225     0.0380                 73.0  0.98900  3.12       0.25    12.90  \n",
       "4226     0.0490                 36.0  0.99091  3.02       0.50    11.00  \n",
       "4227     0.0540                 29.0  0.99482  3.42       0.52     9.10  \n",
       "4228     0.0585                 13.5  0.99366  3.48       0.81    11.85  \n",
       "\n",
       "[4229 rows x 11 columns]"
      ]
     },
     "execution_count": 7,
     "metadata": {},
     "output_type": "execute_result"
    }
   ],
   "source": [
    "X_train, y_train = feature_target_split(train, 'quality')\n",
    "X_test, y_test = feature_target_split(test, 'quality')\n",
    "X_train"
   ]
  },
  {
   "cell_type": "code",
   "execution_count": 8,
   "metadata": {},
   "outputs": [
    {
     "data": {
      "text/html": [
       "<div>\n",
       "<style scoped>\n",
       "    .dataframe tbody tr th:only-of-type {\n",
       "        vertical-align: middle;\n",
       "    }\n",
       "\n",
       "    .dataframe tbody tr th {\n",
       "        vertical-align: top;\n",
       "    }\n",
       "\n",
       "    .dataframe thead th {\n",
       "        text-align: right;\n",
       "    }\n",
       "</style>\n",
       "<table border=\"1\" class=\"dataframe\">\n",
       "  <thead>\n",
       "    <tr style=\"text-align: right;\">\n",
       "      <th></th>\n",
       "      <th>fixed_acidity</th>\n",
       "      <th>volatile_acidity</th>\n",
       "      <th>citric_acid</th>\n",
       "      <th>residual_sugar</th>\n",
       "      <th>chlorides</th>\n",
       "      <th>free_sulfur_dioxide</th>\n",
       "      <th>density</th>\n",
       "      <th>ph</th>\n",
       "      <th>sulphates</th>\n",
       "      <th>alcohol</th>\n",
       "      <th>type_white</th>\n",
       "    </tr>\n",
       "  </thead>\n",
       "  <tbody>\n",
       "    <tr>\n",
       "      <th>0</th>\n",
       "      <td>11.8</td>\n",
       "      <td>0.330</td>\n",
       "      <td>0.490</td>\n",
       "      <td>3.40</td>\n",
       "      <td>0.0930</td>\n",
       "      <td>54.0</td>\n",
       "      <td>1.00020</td>\n",
       "      <td>3.30</td>\n",
       "      <td>0.76</td>\n",
       "      <td>10.70</td>\n",
       "      <td>0.0</td>\n",
       "    </tr>\n",
       "    <tr>\n",
       "      <th>1</th>\n",
       "      <td>7.5</td>\n",
       "      <td>0.420</td>\n",
       "      <td>0.190</td>\n",
       "      <td>6.90</td>\n",
       "      <td>0.0410</td>\n",
       "      <td>62.0</td>\n",
       "      <td>0.99508</td>\n",
       "      <td>3.23</td>\n",
       "      <td>0.37</td>\n",
       "      <td>10.00</td>\n",
       "      <td>1.0</td>\n",
       "    </tr>\n",
       "    <tr>\n",
       "      <th>2</th>\n",
       "      <td>7.5</td>\n",
       "      <td>0.240</td>\n",
       "      <td>0.620</td>\n",
       "      <td>10.60</td>\n",
       "      <td>0.0450</td>\n",
       "      <td>51.0</td>\n",
       "      <td>0.99779</td>\n",
       "      <td>3.16</td>\n",
       "      <td>0.44</td>\n",
       "      <td>8.80</td>\n",
       "      <td>1.0</td>\n",
       "    </tr>\n",
       "    <tr>\n",
       "      <th>3</th>\n",
       "      <td>8.6</td>\n",
       "      <td>0.685</td>\n",
       "      <td>0.100</td>\n",
       "      <td>1.60</td>\n",
       "      <td>0.0920</td>\n",
       "      <td>3.0</td>\n",
       "      <td>0.99745</td>\n",
       "      <td>3.31</td>\n",
       "      <td>0.65</td>\n",
       "      <td>9.55</td>\n",
       "      <td>0.0</td>\n",
       "    </tr>\n",
       "    <tr>\n",
       "      <th>4</th>\n",
       "      <td>6.6</td>\n",
       "      <td>0.500</td>\n",
       "      <td>0.260</td>\n",
       "      <td>11.30</td>\n",
       "      <td>0.0290</td>\n",
       "      <td>32.0</td>\n",
       "      <td>0.99302</td>\n",
       "      <td>3.27</td>\n",
       "      <td>0.78</td>\n",
       "      <td>12.90</td>\n",
       "      <td>1.0</td>\n",
       "    </tr>\n",
       "    <tr>\n",
       "      <th>...</th>\n",
       "      <td>...</td>\n",
       "      <td>...</td>\n",
       "      <td>...</td>\n",
       "      <td>...</td>\n",
       "      <td>...</td>\n",
       "      <td>...</td>\n",
       "      <td>...</td>\n",
       "      <td>...</td>\n",
       "      <td>...</td>\n",
       "      <td>...</td>\n",
       "      <td>...</td>\n",
       "    </tr>\n",
       "    <tr>\n",
       "      <th>4224</th>\n",
       "      <td>8.9</td>\n",
       "      <td>0.620</td>\n",
       "      <td>0.190</td>\n",
       "      <td>3.90</td>\n",
       "      <td>0.1700</td>\n",
       "      <td>51.0</td>\n",
       "      <td>0.99860</td>\n",
       "      <td>3.17</td>\n",
       "      <td>0.93</td>\n",
       "      <td>9.20</td>\n",
       "      <td>0.0</td>\n",
       "    </tr>\n",
       "    <tr>\n",
       "      <th>4225</th>\n",
       "      <td>6.5</td>\n",
       "      <td>0.115</td>\n",
       "      <td>0.290</td>\n",
       "      <td>1.95</td>\n",
       "      <td>0.0380</td>\n",
       "      <td>73.0</td>\n",
       "      <td>0.98900</td>\n",
       "      <td>3.12</td>\n",
       "      <td>0.25</td>\n",
       "      <td>12.90</td>\n",
       "      <td>1.0</td>\n",
       "    </tr>\n",
       "    <tr>\n",
       "      <th>4226</th>\n",
       "      <td>6.7</td>\n",
       "      <td>0.210</td>\n",
       "      <td>0.340</td>\n",
       "      <td>1.40</td>\n",
       "      <td>0.0490</td>\n",
       "      <td>36.0</td>\n",
       "      <td>0.99091</td>\n",
       "      <td>3.02</td>\n",
       "      <td>0.50</td>\n",
       "      <td>11.00</td>\n",
       "      <td>1.0</td>\n",
       "    </tr>\n",
       "    <tr>\n",
       "      <th>4227</th>\n",
       "      <td>5.4</td>\n",
       "      <td>0.375</td>\n",
       "      <td>0.400</td>\n",
       "      <td>3.30</td>\n",
       "      <td>0.0540</td>\n",
       "      <td>29.0</td>\n",
       "      <td>0.99482</td>\n",
       "      <td>3.42</td>\n",
       "      <td>0.52</td>\n",
       "      <td>9.10</td>\n",
       "      <td>1.0</td>\n",
       "    </tr>\n",
       "    <tr>\n",
       "      <th>4228</th>\n",
       "      <td>5.7</td>\n",
       "      <td>0.435</td>\n",
       "      <td>0.135</td>\n",
       "      <td>2.00</td>\n",
       "      <td>0.0585</td>\n",
       "      <td>13.5</td>\n",
       "      <td>0.99366</td>\n",
       "      <td>3.48</td>\n",
       "      <td>0.81</td>\n",
       "      <td>11.85</td>\n",
       "      <td>0.0</td>\n",
       "    </tr>\n",
       "  </tbody>\n",
       "</table>\n",
       "<p>4229 rows × 11 columns</p>\n",
       "</div>"
      ],
      "text/plain": [
       "      fixed_acidity  volatile_acidity  citric_acid  residual_sugar  chlorides  \\\n",
       "0              11.8             0.330        0.490            3.40     0.0930   \n",
       "1               7.5             0.420        0.190            6.90     0.0410   \n",
       "2               7.5             0.240        0.620           10.60     0.0450   \n",
       "3               8.6             0.685        0.100            1.60     0.0920   \n",
       "4               6.6             0.500        0.260           11.30     0.0290   \n",
       "...             ...               ...          ...             ...        ...   \n",
       "4224            8.9             0.620        0.190            3.90     0.1700   \n",
       "4225            6.5             0.115        0.290            1.95     0.0380   \n",
       "4226            6.7             0.210        0.340            1.40     0.0490   \n",
       "4227            5.4             0.375        0.400            3.30     0.0540   \n",
       "4228            5.7             0.435        0.135            2.00     0.0585   \n",
       "\n",
       "      free_sulfur_dioxide  density    ph  sulphates  alcohol  type_white  \n",
       "0                    54.0  1.00020  3.30       0.76    10.70         0.0  \n",
       "1                    62.0  0.99508  3.23       0.37    10.00         1.0  \n",
       "2                    51.0  0.99779  3.16       0.44     8.80         1.0  \n",
       "3                     3.0  0.99745  3.31       0.65     9.55         0.0  \n",
       "4                    32.0  0.99302  3.27       0.78    12.90         1.0  \n",
       "...                   ...      ...   ...        ...      ...         ...  \n",
       "4224                 51.0  0.99860  3.17       0.93     9.20         0.0  \n",
       "4225                 73.0  0.98900  3.12       0.25    12.90         1.0  \n",
       "4226                 36.0  0.99091  3.02       0.50    11.00         1.0  \n",
       "4227                 29.0  0.99482  3.42       0.52     9.10         1.0  \n",
       "4228                 13.5  0.99366  3.48       0.81    11.85         0.0  \n",
       "\n",
       "[4229 rows x 11 columns]"
      ]
     },
     "execution_count": 8,
     "metadata": {},
     "output_type": "execute_result"
    }
   ],
   "source": [
    "X_train = one_hot_encoder(X_train, 'type')\n",
    "X_test = one_hot_encoder(X_test, 'type')\n",
    "X_train"
   ]
  },
  {
   "cell_type": "code",
   "execution_count": 9,
   "metadata": {},
   "outputs": [
    {
     "data": {
      "text/plain": [
       "0       7\n",
       "1       6\n",
       "2       5\n",
       "3       6\n",
       "4       8\n",
       "       ..\n",
       "4224    5\n",
       "4225    7\n",
       "4226    6\n",
       "4227    5\n",
       "4228    7\n",
       "Name: quality, Length: 4229, dtype: int64"
      ]
     },
     "execution_count": 9,
     "metadata": {},
     "output_type": "execute_result"
    }
   ],
   "source": [
    "y_train"
   ]
  },
  {
   "cell_type": "code",
   "execution_count": 10,
   "metadata": {},
   "outputs": [],
   "source": [
    "def find_thresholds(train, test, column_name):\n",
    "    df = pd.concat([train, test], axis=0)\n",
    "    column_list = list(df[column_name])\n",
    "    column_list.sort()\n",
    "    lower_threshold_idx = int(len(column_list)/3)\n",
    "    upper_threshold_idx = lower_threshold_idx * 2\n",
    "    lower_threshold = column_list[lower_threshold_idx]\n",
    "    upper_threshold = column_list[upper_threshold_idx]\n",
    "    return lower_threshold, upper_threshold\n",
    "\n",
    "def quality2class(series, lower_threshold, upper_threshold):\n",
    "    quality_list = list(series)\n",
    "    class_list = []\n",
    "    for i in range(len(quality_list)):\n",
    "        if quality_list[i] < lower_threshold:\n",
    "            class_list.append('poor')\n",
    "        elif quality_list[i] > upper_threshold:\n",
    "            class_list.append('excellent')\n",
    "        else:\n",
    "            class_list.append('fair')\n",
    "    class_series= pd.Series(class_list, name = 'class')\n",
    "\n",
    "    return class_series"
   ]
  },
  {
   "cell_type": "code",
   "execution_count": 11,
   "metadata": {},
   "outputs": [
    {
     "name": "stdout",
     "output_type": "stream",
     "text": [
      "5 6\n"
     ]
    }
   ],
   "source": [
    "lower_threshold, upper_threshold = find_thresholds(train, test, 'quality')\n",
    "print(lower_threshold, upper_threshold)"
   ]
  },
  {
   "cell_type": "code",
   "execution_count": 12,
   "metadata": {},
   "outputs": [
    {
     "data": {
      "text/plain": [
       "0       excellent\n",
       "1            fair\n",
       "2            fair\n",
       "3            fair\n",
       "4       excellent\n",
       "          ...    \n",
       "4224         fair\n",
       "4225    excellent\n",
       "4226         fair\n",
       "4227         fair\n",
       "4228    excellent\n",
       "Name: class, Length: 4229, dtype: object"
      ]
     },
     "execution_count": 12,
     "metadata": {},
     "output_type": "execute_result"
    }
   ],
   "source": [
    "y_train = quality2class(y_train, lower_threshold, upper_threshold)\n",
    "y_test = quality2class(y_test, lower_threshold, upper_threshold)\n",
    "y_train\n"
   ]
  },
  {
   "cell_type": "code",
   "execution_count": 13,
   "metadata": {},
   "outputs": [
    {
     "name": "stdout",
     "output_type": "stream",
     "text": [
      "Best Hyperparameters::\n",
      "{'n_neighbors': 20, 'p': 1, 'weights': 'distance'}\n",
      "\n",
      "Highest Cross Validation Score::0.7746521745212417\n",
      "\n",
      "Testing Accuracy::0.775992438563327\n"
     ]
    }
   ],
   "source": [
    "# Train our model with the Scikit-learn K-nearest-neighbors algorithm using our features (X_train) and labels (y_train)\n",
    "# Use Scikit-learn RandomizedSearchCV to fine-tune the hyperparameters in order to optimise the model\n",
    "\n",
    "from scipy.stats import randint\n",
    "from sklearn.model_selection import RandomizedSearchCV\n",
    "\n",
    "# Define the hyperparameters grid\n",
    "param_dist = {\n",
    "    'n_neighbors': randint(1, 50),\n",
    "    'p': [1, 2],\n",
    "    'weights': [\"uniform\", \"distance\"],\n",
    "}\n",
    "\n",
    "# Create a KNN Classifier\n",
    "knn = KNeighborsClassifier()\n",
    "\n",
    "# Create the RandomizedSearchCV object\n",
    "random_search = RandomizedSearchCV(knn, param_distributions=param_dist, n_iter=50, cv=5)\n",
    "\n",
    "# Fit the model to the training data\n",
    "random_search.fit(X_train, y_train)\n",
    "\n",
    "# Print the best parameters and the corresponding score\n",
    "print(\"Best Hyperparameters::\\n{}\".format(random_search.best_params_))\n",
    "print(\"\\nHighest Cross Validation Score::{}\".format(random_search.best_score_))\n",
    "\n",
    "# Evaluate model performance using the features from the test set (X_test)\n",
    "model = random_search.best_estimator_\n",
    "y_pred = model.predict(X_test)\n",
    "\n",
    "# Calculate the accuracy of the best model\n",
    "print(\"\\nTesting Accuracy::{}\".format(accuracy_score(y_test, y_pred)))"
   ]
  },
  {
   "cell_type": "code",
   "execution_count": 14,
   "id": "77aa0aee",
   "metadata": {},
   "outputs": [],
   "source": [
    "# Compare predictions (y_pred) with the labels in the test set (y_test)\n",
    "metrics = classification_report(y_test, y_pred, output_dict=True, zero_division = 0)\n",
    "results = confusion_matrix(y_test, y_pred)"
   ]
  },
  {
   "cell_type": "code",
   "execution_count": 15,
   "id": "dd3dddab",
   "metadata": {},
   "outputs": [
    {
     "name": "stdout",
     "output_type": "stream",
     "text": [
      "{'excellent': {'precision': 0.5362318840579711, 'recall': 0.18686868686868688, 'f1-score': 0.27715355805243447, 'support': 198}, 'fair': {'precision': 0.7922998986828774, 'recall': 0.9606879606879607, 'f1-score': 0.8684064408661856, 'support': 814}, 'poor': {'precision': 1.0, 'recall': 0.043478260869565216, 'f1-score': 0.08333333333333333, 'support': 46}, 'accuracy': 0.775992438563327, 'macro avg': {'precision': 0.7761772609136162, 'recall': 0.39701163614207097, 'f1-score': 0.4096311107506511, 'support': 1058}, 'weighted avg': {'precision': 0.7534083464757472, 'recall': 0.775992438563327, 'f1-score': 0.7236224770253218, 'support': 1058}}\n"
     ]
    }
   ],
   "source": [
    "print(metrics)"
   ]
  },
  {
   "cell_type": "code",
   "execution_count": 16,
   "id": "4d944032",
   "metadata": {},
   "outputs": [
    {
     "data": {
      "image/png": "[encoded data removed]",
      "text/plain": [
       "<Figure size 640x480 with 1 Axes>"
      ]
     },
     "metadata": {},
     "output_type": "display_data"
    }
   ],
   "source": [
    "import numpy as np\n",
    "\n",
    "# Normalise confusion matrix\n",
    "results_norm = results.astype('float') / results.sum(axis=1)[:, np.newaxis]\n",
    "\n",
    "# Create the confusion matrix as a figure, we will later store it as a PNG image file\n",
    "df_cm = pd.DataFrame(results_norm, ['True poor', 'True fair', 'True excellent'],\n",
    "                     ['Pred poor', 'Pred fair', 'Pred excellent'])\n",
    "cm = sns.heatmap(df_cm, annot=True, cbar=False)\n",
    "fig = cm.get_figure()"
   ]
  },
  {
   "cell_type": "code",
   "execution_count": 17,
   "id": "bcfdfc4f",
   "metadata": {},
   "outputs": [
    {
     "name": "stdout",
     "output_type": "stream",
     "text": [
      "Connected. Call `.close()` to terminate connection gracefully.\n"
     ]
    },
    {
     "data": {
      "application/vnd.jupyter.widget-view+json": {
       "model_id": "f34fbd51bd3b49738afdb073461e299d",
       "version_major": 2,
       "version_minor": 0
      },
      "text/plain": [
       "  0%|          | 0/6 [00:00<?, ?it/s]"
      ]
     },
     "metadata": {},
     "output_type": "display_data"
    },
    {
     "data": {
      "application/vnd.jupyter.widget-view+json": {
       "model_id": "dd709be48248456f8b8299fe5468619e",
       "version_major": 2,
       "version_minor": 0
      },
      "text/plain": [
       "Uploading: 0.000%|          | 0/16392 elapsed<00:00 remaining<?"
      ]
     },
     "metadata": {},
     "output_type": "display_data"
    },
    {
     "data": {
      "application/vnd.jupyter.widget-view+json": {
       "model_id": "bdd5501bacac4c839783a61f1b6e9301",
       "version_major": 2,
       "version_minor": 0
      },
      "text/plain": [
       "Uploading: 0.000%|          | 0/850262 elapsed<00:00 remaining<?"
      ]
     },
     "metadata": {},
     "output_type": "display_data"
    },
    {
     "data": {
      "application/vnd.jupyter.widget-view+json": {
       "model_id": "b153019c01f546bea3653c221aebb86f",
       "version_major": 2,
       "version_minor": 0
      },
      "text/plain": [
       "Uploading: 0.000%|          | 0/1047 elapsed<00:00 remaining<?"
      ]
     },
     "metadata": {},
     "output_type": "display_data"
    },
    {
     "name": "stdout",
     "output_type": "stream",
     "text": [
      "Model created, explore it at https://c.app.hopsworks.ai:443/p/196758/models/wine_class_model/1\n"
     ]
    },
    {
     "data": {
      "text/plain": [
       "Model(name: 'wine_class_model', version: 1)"
      ]
     },
     "execution_count": 17,
     "metadata": {},
     "output_type": "execute_result"
    }
   ],
   "source": [
    "# We will now upload our model to the Hopsworks Model Registry. First get an object for the model registry.\n",
    "mr = project.get_model_registry()\n",
    "\n",
    "# The contents of the 'wine_class_model' directory will be saved to the model registry. Create the dir, first.\n",
    "model_dir=\"wine_class_model\"\n",
    "if os.path.isdir(model_dir) == False:\n",
    "    os.mkdir(model_dir)\n",
    "\n",
    "# Save both our model and the confusion matrix to 'model_dir', whose contents will be uploaded to the model registry\n",
    "joblib.dump(model, model_dir + \"/wine_class_model.pkl\")\n",
    "fig.savefig(model_dir + \"/confusion_matrix.png\")\n",
    "\n",
    "# Specify the schema of the model's input/output using the features (X_train) and labels (y_train)\n",
    "input_schema = Schema(X_train)\n",
    "output_schema = Schema(y_train)\n",
    "model_schema = ModelSchema(input_schema, output_schema)\n",
    "\n",
    "# Create an entry in the model registry that includes the model's name, desc, metrics\n",
    "wine_class_model = mr.python.create_model(\n",
    "    name=\"wine_class_model\", \n",
    "    metrics={\"accuracy\" : metrics['accuracy']},\n",
    "    model_schema=model_schema,\n",
    "    description=\"wine class Predictor\"\n",
    ")\n",
    "\n",
    "# Upload the model to the model registry, including all files in 'model_dir'\n",
    "wine_class_model.save(model_dir)"
   ]
  }
 ],
 "metadata": {
  "kernelspec": {
   "display_name": "Python 3 (ipykernel)",
   "language": "python",
   "name": "python3"
  },
  "language_info": {
   "codemirror_mode": {
    "name": "ipython",
    "version": 3
   },
   "file_extension": ".py",
   "mimetype": "text/x-python",
   "name": "python",
   "nbconvert_exporter": "python",
   "pygments_lexer": "ipython3",
   "version": "3.10.13"
  }
 },
 "nbformat": 4,
 "nbformat_minor": 5
}
